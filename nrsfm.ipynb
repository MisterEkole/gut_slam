{
  "cells": [
    {
      "cell_type": "markdown",
      "metadata": {},
      "source": [
        "\n",
        "# Non-rigid structure-from-motion (NRSfM)\n",
        "In computer vision, structure-from-motion (SfM) is an imaging technique for\n",
        "estimating three-dimensional structures from two-dimensional images. Theoretically,\n",
        "the problem is generally well-posed when considering rigid objects, meaning\n",
        "that the objects do not move or deform in the scene. However, non-static scenes\n",
        "are still relevant and have gained increased popularity among researchers in\n",
        "recent years. This is known as *non-rigid structure-from-motion*.\n",
        "\n",
        "In this tutorial, we will consider motion capture (MOCAP). This is a special\n",
        "case, where we use images from multiple camera views to compute the 3D positions\n",
        "of specifically designed markers that track the motion of a person (or object)\n",
        "performing various tasks.\n",
        "\n",
        "## Non-rigid shapes\n",
        "To make the problem well-posed, one has to control the complexity of\n",
        "the deformations using some minor assumptions on the possible space of object\n",
        "shapes. This is not a weird thing to do: consider e.g. the human body,\n",
        "we have different joints that bend and turn in a finite amount of ways; the\n",
        "skeleton itself is rigid and not capable of such deformations. For this reason,\n",
        "Bregler et al. [1]_ suggested that all movements (or shapes) can be represented\n",
        "by a low-dimensional basis. In the context of motion capture, this means that\n",
        "every movement a person does can be considered a combination of core movements\n",
        "(or basis shapes).\n",
        "\n",
        "Mathematically speaking, this translates to any motion being a linear combination\n",
        "of the basis shapes, i.e. assuming there are $K$ basis shapes, any non-rigid\n",
        "shape $X_i$ can be written as\n",
        "\n",
        "    .. math::\n",
        "        X_i = \\sum_{i=1}^K c_{ik}B_k\n",
        "\n",
        "where $c_{ik}$ are the basis coefficients and $B_k$ are the basis shapes.\n",
        "Here, $X_i$ is a $3\\times N$ matrix where each column is a point in\n",
        "3D space.\n",
        "\n",
        "## The CMU MOCAP dataset\n",
        "Let us first try to understand the data we are given. We will use the *Pickup*\n",
        "instance from the CMU MOCAP dataset, which depicts a person picking something\n",
        "up from the floor.\n"
      ]
    },
    {
      "cell_type": "code",
      "execution_count": 2,
      "metadata": {
        "collapsed": false
      },
      "outputs": [],
      "source": [
        "import matplotlib.pyplot as plt\n",
        "import matplotlib.animation as animation\n",
        "import numpy as np\n",
        "import scipy as sp\n",
        "\n",
        "\n"
      ]
    },
    {
      "cell_type": "code",
      "execution_count": null,
      "metadata": {},
      "outputs": [],
      "source": [
        "plt.close('all')\n",
        "np.random.seed(0)\n",
        "data = np.load('gut_images/02_01.tvd', allow_pickle=True)\n",
        "X_gt = data['X_gt']\n",
        "markers = data['markers'].item()"
      ]
    },
    {
      "cell_type": "markdown",
      "metadata": {},
      "source": [
        "First we view the first 3D poses. In order to easily visualize the person, we\n",
        "draw a skeleton between the markers corresponding to certain body parts. Note\n",
        "that these are not used in any other way.\n",
        "\n"
      ]
    },
    {
      "cell_type": "code",
      "execution_count": null,
      "metadata": {
        "collapsed": false
      },
      "outputs": [],
      "source": [
        "def plot_first_3d_pose(ax, X, color='b', marker='o', linecolor='k'):\n",
        "    ax.scatter(X[0, :], X[1, :], X[2, :], color, marker=marker)\n",
        "    for j, ind in enumerate(markers.values()):\n",
        "        ax.plot(X[0, ind], X[1, ind], X[2, ind], '-', color=linecolor)\n",
        "    ax.set_box_aspect(np.ptp(X[:3, :], axis=1))\n",
        "    ax.view_init(20, 25)\n",
        "\n",
        "\n",
        "fig = plt.figure()\n",
        "ax = fig.add_subplot(projection='3d')\n",
        "plot_first_3d_pose(ax, X_gt)\n",
        "plt.tight_layout()"
      ]
    },
    {
      "cell_type": "markdown",
      "metadata": {},
      "source": [
        "Now, we turn the attention to the data the algorithm is given, which is a\n",
        "sequence of 2D images from varying views. The goal is to recreate the 3D\n",
        "points, such as in the example above, from all timestamps.\n",
        "\n"
      ]
    },
    {
      "cell_type": "code",
      "execution_count": null,
      "metadata": {
        "collapsed": false
      },
      "outputs": [],
      "source": [
        "M = data['M']\n",
        "F = int(X_gt.shape[0] / 3)\n",
        "\n",
        "\n",
        "def _update(f: int):\n",
        "    X = M[2 * f:2 * f + 2, :]\n",
        "    lines[0].set_data(X[0, :], X[1, :])\n",
        "    for j, ind in enumerate(markers.values()):\n",
        "        lines[j + 1].set_data(X[0, ind], X[1, ind])\n",
        "    return lines\n",
        "\n",
        "\n",
        "fig, ax = plt.subplots()\n",
        "lines = ax.plot([], [], 'r.')\n",
        "for _ in range(len(markers)):\n",
        "    lines.append(ax.plot([], [], 'k-')[0])\n",
        "ax.set(xlim=(-2.5, 2.5), ylim=(-3.5, 3.5))\n",
        "ax.set_aspect('equal')\n",
        "\n",
        "ani = animation.FuncAnimation(fig, _update, F, interval=25, blit=True)"
      ]
    },
    {
      "cell_type": "markdown",
      "metadata": {},
      "source": [
        "Note that these are the 2D image correspondences and that the image view is\n",
        "constantly changing as it is spinning around. Such motion can be modeled\n",
        "with orthographic cameras, which we will discuss next.\n",
        "\n",
        "## Orthographic projections\n",
        "Assuming that we know the pose of the camera from which the image was taken\n",
        "the corresponding 2D image point can be obtained. In the case of rotations,\n",
        "we assume the cameras are orthographic, meaning that the image points $x_i$\n",
        "are obtained from the relation\n",
        "\n",
        "    .. math::\n",
        "        x_i = R_iX_i\n",
        "\n",
        "where $R_i$ is a $2\\times 3$ matrix fulfilling $R_iR_i^T=I$.\n",
        "Essentially, the $R_i$ matrices consists of the top two rows of the\n",
        "corresponding rotation matrix.\n",
        "\n",
        "Now, the task at hand is essentially the inverse problem: to reconstruct the\n",
        "3D points for each point in time from these 2D images.\n",
        "\n",
        "## Treating NRSfM as a low-rank factorization problem\n",
        "One of the main novelties of the paper by Dai et al. [2]_ is to reshape and\n",
        "stack the non-rigid shapes $X_i$ in a way that allows us to treat the\n",
        "problem using methods from low-rank factorization. This is done in the following\n",
        "way: first concatenate all rows of $X_i$ creating a vector\n",
        "$X^\\sharp_i$ of size $1\\times 3N$. Secondly, assuming there are in\n",
        "total $F$ non-rigid shapes we create the matrix $X^\\sharp$ of size\n",
        "$F\\times 3N$ by stacking all $X^\\sharp_i$. This enables us to decompose\n",
        "the newly created matrix $X^\\sharp=CB^\\sharp$ in the low-rank factors\n",
        "consisting of the shape coefficients $C$ and the basis shapes $B^\\sharp$\n",
        "(constructed in the same way as $X^\\sharp$).\n",
        "\n",
        "Now, let us implement and visualize this approach.\n",
        "\n"
      ]
    },
    {
      "cell_type": "code",
      "execution_count": null,
      "metadata": {
        "collapsed": false
      },
      "outputs": [],
      "source": [
        "def stack(X: np.ndarray):\n",
        "    return np.hstack((X[::3, :], X[1::3, :], X[2::3, :]))\n",
        "\n",
        "\n",
        "Xi = np.arange(15).reshape((3, 5))\n",
        "fig, ax = plt.subplots(1, 2)\n",
        "ax[0].matshow(Xi)\n",
        "ax[0].set_title(r'$X_i$')\n",
        "ax[0].axis('off')\n",
        "ax[1].matshow(stack(Xi))\n",
        "ax[1].set_title(r'$X_i^\\sharp$')\n",
        "ax[1].axis('off')\n",
        "plt.tight_layout()"
      ]
    },
    {
      "cell_type": "markdown",
      "metadata": {},
      "source": [
        "Furthermore, we introduce the inverse\n",
        "operation, such that $X=\\mathcal{U}(X^\\sharp)$, where\n",
        "$\\mathcal{U}$ is the \"unstacking\" operator.\n",
        "\n"
      ]
    },
    {
      "cell_type": "code",
      "execution_count": null,
      "metadata": {
        "collapsed": false
      },
      "outputs": [],
      "source": [
        "def unstack(Xs: np.ndarray):\n",
        "    \"\"\"Inverse operation of stack.\"\"\"\n",
        "    m, n = Xs.shape\n",
        "    m *= 3\n",
        "    n //= 3\n",
        "    X = np.zeros((m, n), dtype=Xs.dtype)\n",
        "    X[::3] = Xs[:, :n]\n",
        "    X[1::3] = Xs[:, n:2*n]\n",
        "    X[2::3] = Xs[:, 2*n:3*n]\n",
        "    return X"
      ]
    },
    {
      "cell_type": "markdown",
      "metadata": {},
      "source": [
        "In many cases, the necessary amount of basis shapes is not known\n",
        "*a priori*. Therefore, a suitable objective to try to minimize is\n",
        "\n",
        "    .. math::\n",
        "        \\argmin_X \\mu \\rank(X^\\sharp) + \\frac{1}{2}\\sum_{i=1}^F\\|R_iX_i - x_i\\|_2^2\n",
        "\n",
        "or, equivalently,\n",
        "\n",
        "    .. math::\n",
        "        \\argmin_X \\mu \\rank(X^\\sharp) + \\frac{1}{2}\\|RX - M\\|_F^2\n",
        "\n",
        "where $R$ is a block-diagonal matrix with $R_i$ on the main diagonal,\n",
        "whereas $X$ and $M$ are the concatenations of $X_i$ and\n",
        "$x_i$, respectively.\n",
        "\n",
        "Since the rank function is non-convex and discontinuous, it is often replaced\n",
        "by a relaxation. In [2]_ the *nuclear norm* $\\|\\cdot\\|_{*}$ was used, i.e.\n",
        "we seek to minimize\n",
        "\n",
        "    .. math::\n",
        "        \\argmin_X \\mu \\|X^\\sharp\\|_{*} + \\frac{1}{2}\\|RX - M\\|_F^2 \\; .\n",
        "\n",
        "There are some theoretical justifications for this specific choice of relaxation,\n",
        "e.g. the nuclear norm is the convex envelope of the rank function under\n",
        "curtain assumptions [3]_.\n",
        "\n",
        "## Solving the relaxed problem\n",
        "We will now show how to solve this problem using splitting schemes. Specifically,\n",
        "we will use :class:`pyproximal.ADMM` and re-write the objective as\n",
        "\n",
        "    .. math::\n",
        "        \\argmin_{X, Z} \\mu \\|Z^\\sharp\\|_{*} + \\frac{1}{2}\\|RX - M\\|_F^2,\n",
        "\n",
        "and add the constraint $X=Z$. This way, the proximal operators\n",
        "are simply those of the (stacked) nuclear norm and the Frobenius norm.\n",
        "We implement these next:\n",
        "\n"
      ]
    },
    {
      "cell_type": "code",
      "execution_count": null,
      "metadata": {
        "collapsed": false
      },
      "outputs": [],
      "source": [
        "from pyproximal.ProxOperator import _check_tau\n",
        "from pyproximal import Nuclear, ProxOperator\n",
        "\n",
        "\n",
        "class BlockDiagFrobenius(ProxOperator):\n",
        "    r\"\"\"Proximal operator for 1/2 * ||RX - M||_F^2 where R is block-diagonal.\n",
        "    Note: You could also wrap pyproximal.L2, but this class is used here in\n",
        "    this tutorial to increase legibility.\n",
        "    \"\"\"\n",
        "    def __init__(self, dim, R, M):\n",
        "        super().__init__(None, False)\n",
        "        self.dim = dim\n",
        "        self.R = R\n",
        "        self.M = M\n",
        "\n",
        "    def __call__(self, x):\n",
        "        X = x.reshape(self.dim)\n",
        "        return 0.5 * np.linalg.norm(self.R @ X - self.M, 'fro') ** 2\n",
        "\n",
        "    @_check_tau\n",
        "    def prox(self, x, tau):\n",
        "        X = x.reshape(self.dim)\n",
        "        Y = np.zeros_like(X)\n",
        "        for f, Rf in enumerate(self.R):\n",
        "            Y[3 * f: 3 * f + 3, :] = np.linalg.solve(\n",
        "                tau * Rf.T @ Rf + np.eye(3),\n",
        "                tau * Rf.T @ self.M[2 * f:2 * f + 2, :] + X[3 * f: 3 * f + 3, :]\n",
        "            )\n",
        "        return Y.flatten()\n",
        "\n",
        "\n",
        "class StackedNuclear(Nuclear):\n",
        "    r\"\"\"Proximal operator for the stacked nuclear norm.\"\"\"\n",
        "    def __init__(self, dim, sigma=1.):\n",
        "        super().__init__(dim, sigma)\n",
        "        self.unstacked_dim = (dim[0] * 3, dim[1] // 3)\n",
        "\n",
        "    def __call__(self, x):\n",
        "        X = stack(x.reshape(self.unstacked_dim))\n",
        "        return super().__call__(X.ravel())\n",
        "\n",
        "    def prox(self, x, tau):\n",
        "        X = stack(x.reshape(self.unstacked_dim))\n",
        "        x = super().prox(X.ravel(), tau)\n",
        "        X = unstack(x.reshape(self.dim))\n",
        "        return X.ravel()"
      ]
    },
    {
      "cell_type": "markdown",
      "metadata": {},
      "source": [
        "Now we are ready to solve the problem using ADMM.\n",
        "\n"
      ]
    },
    {
      "cell_type": "code",
      "execution_count": null,
      "metadata": {
        "collapsed": false
      },
      "outputs": [],
      "source": [
        "from pyproximal.optimization.primal import ADMM\n",
        "\n",
        "\n",
        "mu = 1\n",
        "R = data['R']\n",
        "Rblk = sp.linalg.block_diag(*R)\n",
        "M = Rblk @ X_gt\n",
        "N = M.shape[1]\n",
        "normal_size = (3*F, N)\n",
        "stacked_size = (F, 3*N)\n",
        "X0 = np.zeros(normal_size)\n",
        "proxf = BlockDiagFrobenius(normal_size, R, M)\n",
        "proxg = StackedNuclear(stacked_size, mu)\n",
        "X_rec = ADMM(proxf, proxg, x0=X0.flatten(), tau=0.9, niter=200)[0]\n",
        "X_rec = X_rec.reshape(normal_size)"
      ]
    },
    {
      "cell_type": "markdown",
      "metadata": {},
      "source": [
        "Let us compare the results with the ground truth data.\n",
        "\n"
      ]
    },
    {
      "cell_type": "code",
      "execution_count": null,
      "metadata": {
        "collapsed": false
      },
      "outputs": [],
      "source": [
        "fig = plt.figure()\n",
        "ax = fig.add_subplot(projection='3d')\n",
        "plot_first_3d_pose(ax, X_gt)\n",
        "plot_first_3d_pose(ax, X_rec, color='r', marker='v', linecolor='r')\n",
        "plt.tight_layout()"
      ]
    },
    {
      "cell_type": "markdown",
      "metadata": {},
      "source": [
        "Furthermore, we compute some statistics on the reconstruction performance. You\n",
        "can vary the regulation strength $\\mu$ to see if you can achieve better\n",
        "performance yourself!\n",
        "\n"
      ]
    },
    {
      "cell_type": "code",
      "execution_count": null,
      "metadata": {
        "collapsed": false
      },
      "outputs": [],
      "source": [
        "print(f'Datafit: {np.linalg.norm(Rblk @ X_rec - M, \"fro\")}')\n",
        "print(f'Distance to GT: {np.linalg.norm(X_rec - X_gt, \"fro\")}')"
      ]
    },
    {
      "cell_type": "markdown",
      "metadata": {},
      "source": [
        "One issue with the nuclear norm is that you have the hyperparameter\n",
        "$\\mu$ that regulates the impact of the datafit vs. model assumption.\n",
        "When $\\mu=0$ the datafit is perfect, but there would be no enforcement\n",
        "of the basis shapes, leading to severe over-fitting. On the other end, as\n",
        "$\\mu\\to\\infty$ the reconstruction turns towards the zero matrix, thus\n",
        "completely ignoring the given data.\n",
        "\n",
        "Later publications have tried to mitigate this issue, and have shown that\n",
        "the weighted nuclear norm performs even better when the weights are selected\n",
        "with care [4]_. Other non-convex relaxations show similar results [5]_.\n",
        "\n",
        "**References**\n",
        "\n",
        ".. [1] C. Bregler, A. Hertzmann, and H. Biermann. Recovering non-rigid 3d shape\n",
        "   from image streams. In The IEEE Conference on Computer Vision and Pattern\n",
        "   Recognition (CVPR), 2000.\n",
        ".. [2] Y. Dai, H. Li, and M. He. A simple prior-free method for non-rigid\n",
        "   structure-from-motion factorization. International Journal of Computer Vision,\n",
        "   107(2):101–122, 2014.\n",
        ".. [3] M. Fazel, H. Hindi, and S. P. Boyd. A rank minimization heuristic with\n",
        "   application to minimum order system approximation. In the Proceedings of the\n",
        "   American Control Conference (ACC), 2001.\n",
        ".. [4] S. Kumar. Non-rigid structure from motion: Prior-free factorization method\n",
        "   revisited. In The IEEE Winter Conference on Applications of Computer Vision\n",
        "   (WACV), 2020.\n",
        ".. [5] M. Valtonen Örnhag and C. Olsson. A unified optimization framework for\n",
        "   low-rank inducing penalties. In the Proceedings of the IEEE/CVF conference\n",
        "   on computer vision and pattern recognition (CVPR), 2020.\n",
        "\n"
      ]
    }
  ],
  "metadata": {
    "kernelspec": {
      "display_name": "Python 3",
      "language": "python",
      "name": "python3"
    },
    "language_info": {
      "codemirror_mode": {
        "name": "ipython",
        "version": 3
      },
      "file_extension": ".py",
      "mimetype": "text/x-python",
      "name": "python",
      "nbconvert_exporter": "python",
      "pygments_lexer": "ipython3",
      "version": "3.11.7"
    }
  },
  "nbformat": 4,
  "nbformat_minor": 0
}
